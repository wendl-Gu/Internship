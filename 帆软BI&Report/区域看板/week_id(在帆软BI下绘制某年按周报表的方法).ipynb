{
 "cells": [
  {
   "cell_type": "markdown",
   "metadata": {},
   "source": [
    "#### 在利用帆软绘制<数据看板>时需添加功能在XXXX年下滚选按第Y周的数据，这就需要在导入数据时用python加上week_id列以标识这是该年的第几周数据，下为操作过程:"
   ]
  },
  {
   "cell_type": "code",
   "execution_count": 1,
   "metadata": {},
   "outputs": [],
   "source": [
    "import pandas as pd"
   ]
  },
  {
   "cell_type": "markdown",
   "metadata": {},
   "source": [
    "从MySQL数据库中读取的datetime mode一般形如data_date格式: / data_date = pd.read_excel(\"目标表.xlxs\")['时间(年月日/时分秒)'].values /"
   ]
  },
  {
   "cell_type": "code",
   "execution_count": 2,
   "metadata": {},
   "outputs": [],
   "source": [
    "data_date = ['2020-03-26T20:25:00.000000000', '2020-04-16T17:47:00.000000000',\n",
    "             '2020-05-07T08:54:00.000000000']\n",
    "data_date = pd.to_datetime(data_date)\n",
    "\n",
    "# 起始时间需依次按年指定,同时将其拓展为data_date长度\n",
    "start_date = ['2020-01-01T00:00:00.000000000'] * len(data_date)\n",
    "start_date = pd.to_datetime(start_date)"
   ]
  },
  {
   "cell_type": "code",
   "execution_count": 3,
   "metadata": {},
   "outputs": [],
   "source": [
    "# 储存当前日期至年初第一天的天数差\n",
    "days_count = []\n",
    "for dd in (data_date - start_date):\n",
    "    days_count.append(dd.days)"
   ]
  },
  {
   "cell_type": "code",
   "execution_count": 4,
   "metadata": {},
   "outputs": [
    {
     "name": "stdout",
     "output_type": "stream",
     "text": [
      "[85, 106, 127]\n"
     ]
    }
   ],
   "source": [
    "print(days_count)"
   ]
  },
  {
   "cell_type": "code",
   "execution_count": 5,
   "metadata": {},
   "outputs": [],
   "source": [
    "# 利用天数差除以7得到的商及为第_n周(id)\n",
    "week_id = []\n",
    "for i in range(len(days_count)):\n",
    "    week_id.append(days_count[i] // 7) "
   ]
  },
  {
   "cell_type": "code",
   "execution_count": 6,
   "metadata": {},
   "outputs": [
    {
     "name": "stdout",
     "output_type": "stream",
     "text": [
      "[12, 15, 18]\n"
     ]
    }
   ],
   "source": [
    "print(week_id)"
   ]
  },
  {
   "cell_type": "markdown",
   "metadata": {},
   "source": [
    "#### 之后可在帆软设置按week_id列筛选展示数据。"
   ]
  }
 ],
 "metadata": {
  "kernelspec": {
   "display_name": "Python 3",
   "language": "python",
   "name": "python3"
  },
  "language_info": {
   "codemirror_mode": {
    "name": "ipython",
    "version": 3
   },
   "file_extension": ".py",
   "mimetype": "text/x-python",
   "name": "python",
   "nbconvert_exporter": "python",
   "pygments_lexer": "ipython3",
   "version": "3.8.5"
  }
 },
 "nbformat": 4,
 "nbformat_minor": 4
}
