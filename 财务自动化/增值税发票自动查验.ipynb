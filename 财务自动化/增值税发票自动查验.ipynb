{
 "cells": [
  {
   "cell_type": "markdown",
   "metadata": {},
   "source": [
    "腾讯云cos存储桶服务端：\n",
    "\n",
    "https://github.com/tencentyun/qcloud-cos-sts-sdk/edit/master\n",
    "\n",
    "当然，其类似于github图形化管理，也能拖拽文件存储。以下案例展示是本人实习时协助单位将扫描仪里的tiff格式发票文件实行“一键”输入查验，方便介绍腾讯云工作流。"
   ]
  },
  {
   "cell_type": "code",
   "execution_count": null,
   "metadata": {},
   "outputs": [],
   "source": [
    "import cv2\n",
    "import os.path\n",
    "\n",
    "# 将扫描仪内tiff格式增值税发票图片转换为png格式图片\n",
    "img_fold = '/Users/tatiana/Desktop/folder1'\n",
    "save_fold = '/Users/tatiana/Desktop/folder2'\n",
    "img_list = os.listdir(img_fold)[2:]\n",
    "num_imgs = len(img_list)\n",
    "\n",
    "for i in range(num_imgs):\n",
    "    pic_name = img_list[i]\n",
    "    org_path = os.path.join(img_fold, pic_name)\n",
    "    img = cv2.imread(org_path, 1)\n",
    "    file_name_temp = pic_name[:-4]\n",
    "    file_name = os.path.join(save_fold , file_name_temp+'.png')\n",
    "    cv2.imwrite(file_name, img)"
   ]
  },
  {
   "cell_type": "code",
   "execution_count": 16,
   "metadata": {},
   "outputs": [
    {
     "name": "stdout",
     "output_type": "stream",
     "text": [
      "请输入要查验的增值税发票数量:2 \n"
     ]
    }
   ],
   "source": [
    "import re, json, docx\n",
    "import pandas as pd\n",
    "from tencentcloud.common import credential\n",
    "from tencentcloud.common.profile.client_profile import ClientProfile\n",
    "from tencentcloud.common.profile.http_profile import HttpProfile\n",
    "from tencentcloud.common.exception.tencent_cloud_sdk_exception import TencentCloudSDKException \n",
    "from tencentcloud.ocr.v20181119 import ocr_client, models \n",
    "\n",
    "# 预先将转换后的png图片填入腾讯云cos存储桶\n",
    "def VatInvoiceOCR(img_path):\n",
    "    cred = credential.Credential(\"AKIDZw5zTj9fKlwrX1KJDuMYVCesqhIf6fLn\", \"NUTDixxiHdjhPs52kETSJuGMCoCLF0Wo\") \n",
    "    httpProfile = HttpProfile()\n",
    "    httpProfile.endpoint = \"ocr.ap-shanghai.tencentcloudapi.com\"\n",
    "\n",
    "    clientProfile = ClientProfile()\n",
    "    clientProfile.httpProfile = httpProfile\n",
    "    client = ocr_client.OcrClient(cred, \"ap-shanghai\", clientProfile) \n",
    "\n",
    "    req = models.VatInvoiceOCRRequest()\n",
    "    params = '{\"ImageUrl\":%s}'%img_path\n",
    "    req.from_json_string(params)\n",
    "\n",
    "    resp = client.VatInvoiceOCR(req) \n",
    "    return json.loads(resp.to_json_string())\n",
    "\n",
    "def get_vatInfo(img_path): \n",
    "    VAT_temp = {}\n",
    "    resp = VatInvoiceOCR(img_path)\n",
    "    for item_dict in resp['VatInvoiceInfos']:\n",
    "        if item_dict['Name'] == '发票代码':\n",
    "            VAT_temp['发票代码'] = item_dict['Value']\n",
    "        elif item_dict['Name'] == '发票号码':\n",
    "            VAT_temp['发票号码'] = item_dict['Value'][2:]\n",
    "        elif item_dict['Name'] == '开票日期':\n",
    "            VAT_temp['开票日期'] = ''.join([x for x in item_dict['Value'] if x.isdigit()])\n",
    "        elif item_dict['Name'] == '合计金额': \n",
    "            VAT_temp['税前金额'] = item_dict['Value'][1:]\n",
    "    return VAT_temp\n",
    "\n",
    "def reorganization_pictures():\n",
    "    file = docx.Document()\n",
    "    for i in range(picnum):\n",
    "        # 截屏存储路径,请自行替换\n",
    "        save_path = \"/Users/tatiana/Desktop/VAT\" + str(i+1)+\".png\" \n",
    "        file.add_picture(img_path)\n",
    "        # 整理后的截屏文件存放路径,请自行替换\n",
    "        file.save('/Users/tatiana/Desktop/VATs_inspection_results.docx') \n",
    "\n",
    "if __name__==\"__main__\":\n",
    "    \n",
    "    VATs_table = pd.DataFrame()\n",
    "    \n",
    "    picnum = int(input(\"请输入要查验的增值税发票数量:\"))\n",
    "    for i in range(picnum):   \n",
    "        img_path = \"\\\"https://vat-1259341270.cos.ap-shanghai.myqcloud.com/VAT/VAT\" + str(i+1)+\".png\\\"\"\n",
    "        VAT_temp = get_vatInfo(img_path)\n",
    "        VATs_table = VATs_table.append(VAT_temp, ignore_index=True)\n",
    "        \n",
    "    order = ['发票代码','发票号码','开票日期','税前金额']\n",
    "    VATs_table = VATs_table[order]"
   ]
  },
  {
   "cell_type": "code",
   "execution_count": 17,
   "metadata": {},
   "outputs": [
    {
     "data": {
      "text/html": [
       "<div>\n",
       "<style scoped>\n",
       "    .dataframe tbody tr th:only-of-type {\n",
       "        vertical-align: middle;\n",
       "    }\n",
       "\n",
       "    .dataframe tbody tr th {\n",
       "        vertical-align: top;\n",
       "    }\n",
       "\n",
       "    .dataframe thead th {\n",
       "        text-align: right;\n",
       "    }\n",
       "</style>\n",
       "<table border=\"1\" class=\"dataframe\">\n",
       "  <thead>\n",
       "    <tr style=\"text-align: right;\">\n",
       "      <th></th>\n",
       "      <th>发票代码</th>\n",
       "      <th>发票号码</th>\n",
       "      <th>开票日期</th>\n",
       "      <th>税前金额</th>\n",
       "    </tr>\n",
       "  </thead>\n",
       "  <tbody>\n",
       "    <tr>\n",
       "      <th>0</th>\n",
       "      <td>3300193130</td>\n",
       "      <td>01854505</td>\n",
       "      <td>20191212</td>\n",
       "      <td>93103.45</td>\n",
       "    </tr>\n",
       "    <tr>\n",
       "      <th>1</th>\n",
       "      <td>2300163130</td>\n",
       "      <td>00313195</td>\n",
       "      <td>20180501</td>\n",
       "      <td>1002.16</td>\n",
       "    </tr>\n",
       "  </tbody>\n",
       "</table>\n",
       "</div>"
      ],
      "text/plain": [
       "         发票代码      发票号码      开票日期      税前金额\n",
       "0  3300193130  01854505  20191212  93103.45\n",
       "1  2300163130  00313195  20180501   1002.16"
      ]
     },
     "execution_count": 17,
     "metadata": {},
     "output_type": "execute_result"
    }
   ],
   "source": [
    "VATs_table"
   ]
  }
 ],
 "metadata": {
  "kernelspec": {
   "display_name": "Python 3",
   "language": "python",
   "name": "python3"
  },
  "language_info": {
   "codemirror_mode": {
    "name": "ipython",
    "version": 3
   },
   "file_extension": ".py",
   "mimetype": "text/x-python",
   "name": "python",
   "nbconvert_exporter": "python",
   "pygments_lexer": "ipython3",
   "version": "3.8.5"
  }
 },
 "nbformat": 4,
 "nbformat_minor": 2
}
